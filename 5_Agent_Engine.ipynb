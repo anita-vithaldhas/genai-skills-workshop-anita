{
  "cells": [
    {
      "cell_type": "markdown",
      "source": [
        "# Simple ADK Agents"
      ],
      "metadata": {
        "id": "6uT9tz6WcJUf"
      },
      "id": "6uT9tz6WcJUf"
    },
    {
      "cell_type": "code",
      "id": "F6eB5VTuCyl62J4cOffRRjx6",
      "metadata": {
        "tags": [],
        "id": "F6eB5VTuCyl62J4cOffRRjx6",
        "colab": {
          "base_uri": "https://localhost:8080/"
        },
        "outputId": "1b86efd8-26cb-4721-fb56-6acaa833c4f7"
      },
      "source": [
        "! pip install google-cloud-aiplatform[adk] --quiet --upgrade"
      ],
      "execution_count": 3,
      "outputs": [
        {
          "output_type": "stream",
          "name": "stdout",
          "text": [
            "\u001b[2K     \u001b[90m━━━━━━━━━━━━━━━━━━━━━━━━━━━━━━━━━━━━━━━━\u001b[0m \u001b[32m44.7/44.7 kB\u001b[0m \u001b[31m4.9 MB/s\u001b[0m eta \u001b[36m0:00:00\u001b[0m\n",
            "\u001b[2K     \u001b[90m━━━━━━━━━━━━━━━━━━━━━━━━━━━━━━━━━━━━━━━━\u001b[0m \u001b[32m44.3/44.3 kB\u001b[0m \u001b[31m4.4 MB/s\u001b[0m eta \u001b[36m0:00:00\u001b[0m\n",
            "\u001b[2K   \u001b[90m━━━━━━━━━━━━━━━━━━━━━━━━━━━━━━━━━━━━━━━━\u001b[0m \u001b[32m1.7/1.7 MB\u001b[0m \u001b[31m32.6 MB/s\u001b[0m eta \u001b[36m0:00:00\u001b[0m\n",
            "\u001b[2K   \u001b[90m━━━━━━━━━━━━━━━━━━━━━━━━━━━━━━━━━━━━━━━━\u001b[0m \u001b[32m7.9/7.9 MB\u001b[0m \u001b[31m89.1 MB/s\u001b[0m eta \u001b[36m0:00:00\u001b[0m\n",
            "\u001b[2K   \u001b[90m━━━━━━━━━━━━━━━━━━━━━━━━━━━━━━━━━━━━━━━━\u001b[0m \u001b[32m240.0/240.0 kB\u001b[0m \u001b[31m23.1 MB/s\u001b[0m eta \u001b[36m0:00:00\u001b[0m\n",
            "\u001b[2K   \u001b[90m━━━━━━━━━━━━━━━━━━━━━━━━━━━━━━━━━━━━━━━━\u001b[0m \u001b[32m218.1/218.1 kB\u001b[0m \u001b[31m20.2 MB/s\u001b[0m eta \u001b[36m0:00:00\u001b[0m\n",
            "\u001b[2K   \u001b[90m━━━━━━━━━━━━━━━━━━━━━━━━━━━━━━━━━━━━━━━━\u001b[0m \u001b[32m335.7/335.7 kB\u001b[0m \u001b[31m28.9 MB/s\u001b[0m eta \u001b[36m0:00:00\u001b[0m\n",
            "\u001b[2K   \u001b[90m━━━━━━━━━━━━━━━━━━━━━━━━━━━━━━━━━━━━━━━━\u001b[0m \u001b[32m155.9/155.9 kB\u001b[0m \u001b[31m16.2 MB/s\u001b[0m eta \u001b[36m0:00:00\u001b[0m\n",
            "\u001b[2K   \u001b[90m━━━━━━━━━━━━━━━━━━━━━━━━━━━━━━━━━━━━━━━━\u001b[0m \u001b[32m65.8/65.8 kB\u001b[0m \u001b[31m7.9 MB/s\u001b[0m eta \u001b[36m0:00:00\u001b[0m\n",
            "\u001b[2K   \u001b[90m━━━━━━━━━━━━━━━━━━━━━━━━━━━━━━━━━━━━━━━━\u001b[0m \u001b[32m118.5/118.5 kB\u001b[0m \u001b[31m12.6 MB/s\u001b[0m eta \u001b[36m0:00:00\u001b[0m\n",
            "\u001b[2K   \u001b[90m━━━━━━━━━━━━━━━━━━━━━━━━━━━━━━━━━━━━━━━━\u001b[0m \u001b[32m196.2/196.2 kB\u001b[0m \u001b[31m19.6 MB/s\u001b[0m eta \u001b[36m0:00:00\u001b[0m\n",
            "\u001b[2K   \u001b[90m━━━━━━━━━━━━━━━━━━━━━━━━━━━━━━━━━━━━━━━━\u001b[0m \u001b[32m64.8/64.8 kB\u001b[0m \u001b[31m7.1 MB/s\u001b[0m eta \u001b[36m0:00:00\u001b[0m\n",
            "\u001b[2K   \u001b[90m━━━━━━━━━━━━━━━━━━━━━━━━━━━━━━━━━━━━━━━━\u001b[0m \u001b[32m79.1/79.1 kB\u001b[0m \u001b[31m6.8 MB/s\u001b[0m eta \u001b[36m0:00:00\u001b[0m\n",
            "\u001b[2K   \u001b[90m━━━━━━━━━━━━━━━━━━━━━━━━━━━━━━━━━━━━━━━━\u001b[0m \u001b[32m229.5/229.5 kB\u001b[0m \u001b[31m21.9 MB/s\u001b[0m eta \u001b[36m0:00:00\u001b[0m\n",
            "\u001b[2K   \u001b[90m━━━━━━━━━━━━━━━━━━━━━━━━━━━━━━━━━━━━━━━━\u001b[0m \u001b[32m103.8/103.8 kB\u001b[0m \u001b[31m11.0 MB/s\u001b[0m eta \u001b[36m0:00:00\u001b[0m\n",
            "\u001b[2K   \u001b[90m━━━━━━━━━━━━━━━━━━━━━━━━━━━━━━━━━━━━━━━━\u001b[0m \u001b[32m45.2/45.2 kB\u001b[0m \u001b[31m3.9 MB/s\u001b[0m eta \u001b[36m0:00:00\u001b[0m\n",
            "\u001b[?25h\u001b[31mERROR: pip's dependency resolver does not currently take into account all the packages that are installed. This behaviour is the source of the following dependency conflicts.\n",
            "google-colab 1.0.0 requires requests==2.32.3, but you have requests 2.32.4 which is incompatible.\u001b[0m\u001b[31m\n",
            "\u001b[0m"
          ]
        }
      ]
    },
    {
      "cell_type": "code",
      "source": [
        "import warnings\n",
        "warnings.filterwarnings('ignore')"
      ],
      "metadata": {
        "id": "N-TqcqWqut-c"
      },
      "id": "N-TqcqWqut-c",
      "execution_count": null,
      "outputs": []
    },
    {
      "cell_type": "code",
      "source": [
        "# @title Restart kernel after installs so that your environment can access the new packages\n",
        "import IPython\n",
        "\n",
        "app = IPython.Application.instance()\n",
        "app.kernel.do_shutdown(True)"
      ],
      "metadata": {
        "id": "sO1EkkYlP9Bn",
        "colab": {
          "base_uri": "https://localhost:8080/"
        },
        "outputId": "e6ab0b89-1307-45ab-b55a-9333f4f0452b"
      },
      "execution_count": 4,
      "outputs": [
        {
          "output_type": "execute_result",
          "data": {
            "text/plain": [
              "{'status': 'ok', 'restart': True}"
            ]
          },
          "metadata": {},
          "execution_count": 4
        }
      ],
      "id": "sO1EkkYlP9Bn"
    },
    {
      "cell_type": "code",
      "source": [
        "import vertexai\n",
        "\n",
        "PROJECT_ID = ! gcloud config get-value project\n",
        "PROJECT_ID = PROJECT_ID[0]\n",
        "LOCATION = \"us-central1\" # @param {type:\"string\"}\n",
        "STAGING_BUCKET = \"gs://agent-engine-staging-bucket-anita\" # @param {type:\"string\"}\n",
        "\n",
        "# define project information manually if the above code didn't work\n",
        "if PROJECT_ID == \"(unset)\":\n",
        "  PROJECT_ID = \"qwiklabs-gcp-02-8501559ee091\" # @param {type:\"string\"}\n",
        "\n",
        "print(PROJECT_ID)\n",
        "\n",
        "vertexai.init(\n",
        "    project=PROJECT_ID,\n",
        "    location=LOCATION,\n",
        "    staging_bucket=STAGING_BUCKET,\n",
        ")"
      ],
      "metadata": {
        "colab": {
          "base_uri": "https://localhost:8080/"
        },
        "id": "siTGyvXUGyng",
        "outputId": "a8d1aa17-c0f0-427e-ea7f-e08665357e26"
      },
      "id": "siTGyvXUGyng",
      "execution_count": 6,
      "outputs": [
        {
          "output_type": "stream",
          "name": "stdout",
          "text": [
            "qwiklabs-gcp-02-8501559ee091\n"
          ]
        }
      ]
    },
    {
      "cell_type": "code",
      "source": [
        "# @title Test the agent locally\n",
        "from google.adk.agents import Agent\n",
        "from google.adk.agents import LlmAgent, BaseAgent\n",
        "from google.adk.tools import google_search\n",
        "\n",
        "# from google.adk.models.lite_llm import LiteLlm\n",
        "\n",
        "AGENT_MODEL = \"gemini-2.0-flash\" # Can be a string for Gemini or a LiteLlm object\n",
        "\n",
        "google_search_agent = LlmAgent(\n",
        "\n",
        "    name=\"search_agent_v1\",\n",
        "    model=AGENT_MODEL,\n",
        "    description=(\n",
        "        \"You can search Google and return answers from the Internet.\"\n",
        "    ),\n",
        "    instruction=(\n",
        "        \"\"\"You are a helpful Chatbot.\n",
        "        If you don't know something, then Search Google for the answer.\"\"\"\n",
        "    ),\n",
        "    tools=[google_search]\n",
        ")\n",
        "\n"
      ],
      "metadata": {
        "id": "lcQlHr91c1yU"
      },
      "id": "lcQlHr91c1yU",
      "execution_count": 1,
      "outputs": []
    },
    {
      "cell_type": "code",
      "source": [
        "# @title Create an App that uses the agent\n",
        "\n",
        "from vertexai.preview import reasoning_engines\n",
        "app = reasoning_engines.AdkApp(\n",
        "    agent=google_search_agent,\n",
        "    enable_tracing=False,\n",
        ")\n",
        "\n",
        "from vertexai import agent_engines\n",
        "remote_agent = agent_engines.create(\n",
        " app,\n",
        " requirements=[\"google-cloud-aiplatform[agent_engines,adk]\"],\n",
        ")"
      ],
      "metadata": {
        "id": "GjRxW5A8ej7F",
        "colab": {
          "base_uri": "https://localhost:8080/"
        },
        "outputId": "73d7375d-39bc-48a1-ad46-67e6dd093b1a"
      },
      "id": "GjRxW5A8ej7F",
      "execution_count": 8,
      "outputs": [
        {
          "output_type": "stream",
          "name": "stderr",
          "text": [
            "INFO:vertexai.agent_engines:Identified the following requirements: {'cloudpickle': '3.1.1', 'google-cloud-aiplatform': '1.102.0', 'pydantic': '2.11.7'}\n",
            "WARNING:vertexai.agent_engines:The following requirements are missing: {'cloudpickle', 'pydantic'}\n",
            "INFO:vertexai.agent_engines:The following requirements are appended: {'pydantic==2.11.7', 'cloudpickle==3.1.1'}\n",
            "INFO:vertexai.agent_engines:The final list of requirements: ['google-cloud-aiplatform[agent_engines,adk]', 'pydantic==2.11.7', 'cloudpickle==3.1.1']\n",
            "INFO:vertexai.agent_engines:Using bucket agent-engine-staging-bucket-anita\n",
            "INFO:vertexai.agent_engines:Wrote to gs://agent-engine-staging-bucket-anita/agent_engine/agent_engine.pkl\n",
            "INFO:vertexai.agent_engines:Writing to gs://agent-engine-staging-bucket-anita/agent_engine/requirements.txt\n",
            "INFO:vertexai.agent_engines:Creating in-memory tarfile of extra_packages\n",
            "INFO:vertexai.agent_engines:Writing to gs://agent-engine-staging-bucket-anita/agent_engine/dependencies.tar.gz\n",
            "INFO:vertexai.agent_engines:Creating AgentEngine\n",
            "INFO:vertexai.agent_engines:Create AgentEngine backing LRO: projects/375835479822/locations/us-central1/reasoningEngines/6976383686052675584/operations/8281223853275873280\n",
            "INFO:vertexai.agent_engines:View progress and logs at https://console.cloud.google.com/logs/query?project=qwiklabs-gcp-02-8501559ee091\n",
            "INFO:vertexai.agent_engines:AgentEngine created. Resource name: projects/375835479822/locations/us-central1/reasoningEngines/6976383686052675584\n",
            "INFO:vertexai.agent_engines:To use this AgentEngine in another session:\n",
            "INFO:vertexai.agent_engines:agent_engine = vertexai.agent_engines.get('projects/375835479822/locations/us-central1/reasoningEngines/6976383686052675584')\n"
          ]
        }
      ]
    },
    {
      "cell_type": "code",
      "source": [
        "\n",
        "# @title Send a message to the locally running agent\n",
        "# @title Create a user session\n",
        "session = app.create_session(user_id=user_id)\n",
        "\n",
        "from IPython.display import Markdown, display\n",
        "\n",
        "#test google search\n",
        "for event in remote_agent.stream_query(\n",
        " user_id=\"agent-engine-test-user\",\n",
        " message=\"Give me the news highlights in the world of science.\",\n",
        "):\n",
        "    lastevent = event\n",
        "\n",
        "display(Markdown(lastevent[\"content\"][\"parts\"][0][\"text\"]))\n",
        "\n"
      ],
      "metadata": {
        "id": "nQaSqTn3fVEM",
        "colab": {
          "base_uri": "https://localhost:8080/",
          "height": 702
        },
        "outputId": "c39fc486-b13c-48bd-86fc-b495944c36fe"
      },
      "id": "nQaSqTn3fVEM",
      "execution_count": 10,
      "outputs": [
        {
          "output_type": "display_data",
          "data": {
            "text/plain": [
              "<IPython.core.display.Markdown object>"
            ],
            "text/markdown": "Here are some of the recent science news highlights:\n\n**Health and Medicine:**\n\n*   **Heart Disease and Plastics:** A chemical widely used in plastics, DEHP, may have contributed to over 356,000 heart-related deaths globally in 2018, especially in Asia and the Middle East. This chemical is linked to inflammation in arteries and is found in items like food packaging.\n*   **Diabetes Treatment:** MIT engineers have developed a tiny implantable device containing powdered glucagon that could revolutionize emergency treatment for people with Type 1 diabetes. The device can be triggered remotely, either manually or automatically.\n*   **Alzheimer's Research:** A common sleeping pill could reduce Alzheimer's protein buildup, according to a study.\n*   **Cancer Treatment:** A modified herpes virus has been found to shrink deadly skin cancers in a clinical trial.\n*   **Creatine and the Brain:** Scientists are using focused ultrasound to deliver creatine past the blood-brain barrier, potentially reversing creatine deficiencies.\n*   **Weight Loss and Health:** Experts are challenging the focus on BMI and dieting, suggesting that most people with higher body weight can't sustain long-term weight loss through lifestyle changes.\n*   **Low Back Pain:** Walking frequently may reduce the likelihood of chronic low back pain.\n*   **Nutrient Deficiencies:**There are 5 nutrients that might be lacking in your diet.\n\n**Technology:**\n\n*   **Quantum Computing:** Quantum materials with a 'hidden metallic state' could make electronics 1,000 times faster. Researchers controlled the conductive properties of a quantum material called 1T-TaS₂ by heating and cooling it.\n*   **AI Hardware:** Scientists in Germany have engineered a vast spin waveguide network that processes information with far less energy, marking a significant step in AI hardware efficiency.\n*   **3D Printing:** Scientists 3-D printed a tiny elephant inside a cell.\n\n**Space and Earth Science:**\n\n*   **Mars' Missing Water:** The mystery of Mars' missing water could be solved by the planet's varying tilt.\n*   **Ancient Earth Impact:** An ancient Earth impact could help in the search for Martian life.\n*   **Earth's Oldest Rocks:** Earth's oldest rocks may be at least 4.16 billion years old.\n*   **Interstellar Comet:** Astronomers have traced the origin of a new interstellar comet.\n*   **Earth's Spin:** Earth is spinning faster than usual, baffling scientists.\n*   **Earth's Location:** Earth may be trapped inside a giant void in space, some scientists suggest.\n\n**Biology and Environment:**\n\n*   **Lemur Aging:** Lemurs age without inflammation, which could have implications for human health.\n*   **New Viruses in Bats:** Two newly discovered viruses in bats are similar to Nipah and Hendra, raising concerns about potential outbreaks in humans.\n*   **Wolf Pups:** Ice Age wolf pups once thought to be early dogs have been identified as wild wolves through DNA and chemical analysis.\n*   **Bird Flu:** As bird flu evolves, keeping it out of farm flocks is getting harder.\n*    **Trees and Climate:** Trees can't get up and walk away, but forests can.\n*   **Tool Use by Killer Whales:** Killer whales have been filmed using tools for the first time.\n*   **New Cell in Pythons:** A new cell discovered in pythons allows them to completely digest bones.\n"
          },
          "metadata": {}
        }
      ]
    }
  ],
  "metadata": {
    "kernelspec": {
      "display_name": "Python 3",
      "language": "python",
      "name": "python3"
    },
    "language_info": {
      "codemirror_mode": {
        "name": "ipython",
        "version": 3
      },
      "file_extension": ".py",
      "mimetype": "text/x-python",
      "name": "python",
      "nbconvert_exporter": "python",
      "pygments_lexer": "ipython3",
      "version": "3.10.10"
    },
    "colab": {
      "provenance": [],
      "name": "5_Agent_Engine.ipynb"
    }
  },
  "nbformat": 4,
  "nbformat_minor": 5
}