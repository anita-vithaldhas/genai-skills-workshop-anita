{
  "cells": [
    {
      "cell_type": "markdown",
      "source": [
        "# Simple ADK Agents"
      ],
      "metadata": {
        "id": "6uT9tz6WcJUf"
      },
      "id": "6uT9tz6WcJUf"
    },
    {
      "cell_type": "code",
      "id": "F6eB5VTuCyl62J4cOffRRjx6",
      "metadata": {
        "tags": [],
        "id": "F6eB5VTuCyl62J4cOffRRjx6",
        "colab": {
          "base_uri": "https://localhost:8080/"
        },
        "outputId": "7244aa07-6460-4859-aa7b-e1f466af98e2"
      },
      "source": [
        "! pip install google-cloud-aiplatform[adk] --quiet --upgrade"
      ],
      "execution_count": null,
      "outputs": [
        {
          "output_type": "stream",
          "name": "stdout",
          "text": [
            "\u001b[2K     \u001b[90m━━━━━━━━━━━━━━━━━━━━━━━━━━━━━━━━━━━━━━━━\u001b[0m \u001b[32m40.1/40.1 kB\u001b[0m \u001b[31m4.4 MB/s\u001b[0m eta \u001b[36m0:00:00\u001b[0m\n",
            "\u001b[2K   \u001b[90m━━━━━━━━━━━━━━━━━━━━━━━━━━━━━━━━━━━━━━━━\u001b[0m \u001b[32m1.3/1.3 MB\u001b[0m \u001b[31m26.5 MB/s\u001b[0m eta \u001b[36m0:00:00\u001b[0m\n",
            "\u001b[2K   \u001b[90m━━━━━━━━━━━━━━━━━━━━━━━━━━━━━━━━━━━━━━━━\u001b[0m \u001b[32m7.9/7.9 MB\u001b[0m \u001b[31m84.6 MB/s\u001b[0m eta \u001b[36m0:00:00\u001b[0m\n",
            "\u001b[2K   \u001b[90m━━━━━━━━━━━━━━━━━━━━━━━━━━━━━━━━━━━━━━━━\u001b[0m \u001b[32m240.0/240.0 kB\u001b[0m \u001b[31m23.2 MB/s\u001b[0m eta \u001b[36m0:00:00\u001b[0m\n",
            "\u001b[2K   \u001b[90m━━━━━━━━━━━━━━━━━━━━━━━━━━━━━━━━━━━━━━━━\u001b[0m \u001b[32m218.1/218.1 kB\u001b[0m \u001b[31m20.7 MB/s\u001b[0m eta \u001b[36m0:00:00\u001b[0m\n",
            "\u001b[2K   \u001b[90m━━━━━━━━━━━━━━━━━━━━━━━━━━━━━━━━━━━━━━━━\u001b[0m \u001b[32m335.7/335.7 kB\u001b[0m \u001b[31m29.9 MB/s\u001b[0m eta \u001b[36m0:00:00\u001b[0m\n",
            "\u001b[2K   \u001b[90m━━━━━━━━━━━━━━━━━━━━━━━━━━━━━━━━━━━━━━━━\u001b[0m \u001b[32m150.9/150.9 kB\u001b[0m \u001b[31m17.0 MB/s\u001b[0m eta \u001b[36m0:00:00\u001b[0m\n",
            "\u001b[2K   \u001b[90m━━━━━━━━━━━━━━━━━━━━━━━━━━━━━━━━━━━━━━━━\u001b[0m \u001b[32m65.8/65.8 kB\u001b[0m \u001b[31m8.1 MB/s\u001b[0m eta \u001b[36m0:00:00\u001b[0m\n",
            "\u001b[2K   \u001b[90m━━━━━━━━━━━━━━━━━━━━━━━━━━━━━━━━━━━━━━━━\u001b[0m \u001b[32m118.5/118.5 kB\u001b[0m \u001b[31m15.1 MB/s\u001b[0m eta \u001b[36m0:00:00\u001b[0m\n",
            "\u001b[2K   \u001b[90m━━━━━━━━━━━━━━━━━━━━━━━━━━━━━━━━━━━━━━━━\u001b[0m \u001b[32m196.2/196.2 kB\u001b[0m \u001b[31m18.9 MB/s\u001b[0m eta \u001b[36m0:00:00\u001b[0m\n",
            "\u001b[2K   \u001b[90m━━━━━━━━━━━━━━━━━━━━━━━━━━━━━━━━━━━━━━━━\u001b[0m \u001b[32m64.8/64.8 kB\u001b[0m \u001b[31m6.9 MB/s\u001b[0m eta \u001b[36m0:00:00\u001b[0m\n",
            "\u001b[2K   \u001b[90m━━━━━━━━━━━━━━━━━━━━━━━━━━━━━━━━━━━━━━━━\u001b[0m \u001b[32m229.5/229.5 kB\u001b[0m \u001b[31m21.4 MB/s\u001b[0m eta \u001b[36m0:00:00\u001b[0m\n",
            "\u001b[2K   \u001b[90m━━━━━━━━━━━━━━━━━━━━━━━━━━━━━━━━━━━━━━━━\u001b[0m \u001b[32m103.8/103.8 kB\u001b[0m \u001b[31m11.9 MB/s\u001b[0m eta \u001b[36m0:00:00\u001b[0m\n",
            "\u001b[2K   \u001b[90m━━━━━━━━━━━━━━━━━━━━━━━━━━━━━━━━━━━━━━━━\u001b[0m \u001b[32m45.2/45.2 kB\u001b[0m \u001b[31m5.5 MB/s\u001b[0m eta \u001b[36m0:00:00\u001b[0m\n",
            "\u001b[?25h\u001b[31mERROR: pip's dependency resolver does not currently take into account all the packages that are installed. This behaviour is the source of the following dependency conflicts.\n",
            "google-colab 1.0.0 requires requests==2.32.3, but you have requests 2.32.4 which is incompatible.\u001b[0m\u001b[31m\n",
            "\u001b[0m"
          ]
        }
      ]
    },
    {
      "cell_type": "code",
      "source": [
        "import warnings\n",
        "warnings.filterwarnings('ignore')"
      ],
      "metadata": {
        "id": "N-TqcqWqut-c"
      },
      "id": "N-TqcqWqut-c",
      "execution_count": null,
      "outputs": []
    },
    {
      "cell_type": "code",
      "source": [
        "# @title Restart kernel after installs so that your environment can access the new packages\n",
        "import IPython\n",
        "\n",
        "app = IPython.Application.instance()\n",
        "app.kernel.do_shutdown(True)"
      ],
      "metadata": {
        "id": "sO1EkkYlP9Bn",
        "colab": {
          "base_uri": "https://localhost:8080/"
        },
        "outputId": "123cfb95-4817-4081-e16c-f1b807558857"
      },
      "execution_count": null,
      "outputs": [
        {
          "output_type": "execute_result",
          "data": {
            "text/plain": [
              "{'status': 'ok', 'restart': True}"
            ]
          },
          "metadata": {},
          "execution_count": 14
        }
      ],
      "id": "sO1EkkYlP9Bn"
    },
    {
      "cell_type": "code",
      "source": [
        "import vertexai\n",
        "\n",
        "PROJECT_ID = ! gcloud config get-value project\n",
        "PROJECT_ID = PROJECT_ID[0]\n",
        "LOCATION = \"us-central1\" # @param {type:\"string\"}\n",
        "STAGING_BUCKET = \"gs://agent-engine-staging-bucket-anita\" # @param {type:\"string\"}\n",
        "\n",
        "# define project information manually if the above code didn't work\n",
        "if PROJECT_ID == \"(unset)\":\n",
        "  PROJECT_ID = \"qwiklabs-gcp-02-8501559ee091\" # @param {type:\"string\"}\n",
        "\n",
        "print(PROJECT_ID)\n",
        "\n",
        "vertexai.init(\n",
        "    project=PROJECT_ID,\n",
        "    location=LOCATION,\n",
        "    staging_bucket=STAGING_BUCKET,\n",
        ")"
      ],
      "metadata": {
        "id": "dBAF_tCwQGrY",
        "colab": {
          "base_uri": "https://localhost:8080/"
        },
        "outputId": "f5dad2bd-de60-4222-adec-850d0d07f604"
      },
      "execution_count": null,
      "outputs": [
        {
          "output_type": "stream",
          "name": "stdout",
          "text": [
            "qwiklabs-gcp-02-8501559ee091\n"
          ]
        }
      ],
      "id": "dBAF_tCwQGrY"
    },
    {
      "cell_type": "markdown",
      "source": [
        "## Simple Weather Agent"
      ],
      "metadata": {
        "id": "zgcp_HjFef7p"
      },
      "id": "zgcp_HjFef7p"
    },
    {
      "cell_type": "markdown",
      "source": [
        "NWS Weather Function"
      ],
      "metadata": {
        "id": "nYWAnazhvVEI"
      },
      "id": "nYWAnazhvVEI"
    },
    {
      "cell_type": "code",
      "source": [
        "import requests\n",
        "from typing import Dict, Any, Optional, List\n",
        "\n",
        "def get_weather_forecast(latitude: float, longitude: float) -> Optional[List[Dict[str, Any]]]:\n",
        "    \"\"\"\n",
        "    Retrieves the weather forecast from the National Weather Service (NWS) API.\n",
        "\n",
        "    This function takes a latitude and longitude, first determines the\n",
        "    correct NWS forecast grid endpoint, and then fetches the weather\n",
        "    forecast for that location.\n",
        "\n",
        "    Args:\n",
        "        latitude: The latitude of the location.\n",
        "        longitude: The longitude of the location.\n",
        "\n",
        "    Returns:\n",
        "        A list of dictionaries, where each dictionary represents a forecast\n",
        "        period (e.g., 'Tonight', 'Thursday'). Returns None if the forecast\n",
        "        cannot be retrieved.\n",
        "    \"\"\"\n",
        "    # NWS API requires a User-Agent header such as app name.\n",
        "    headers = {\n",
        "        'User-Agent': 'my-weather-app-av'\n",
        "    }\n",
        "\n",
        "    # --- Step 1: Get the forecast endpoint URL from the points endpoint ---\n",
        "    points_url = f\"https://api.weather.gov/points/{latitude},{longitude}\"\n",
        "\n",
        "    try:\n",
        "        points_response = requests.get(points_url, headers=headers, timeout=10)\n",
        "        # Raise an exception for bad status codes (4xx or 5xx)\n",
        "        points_response.raise_for_status()\n",
        "        points_data = points_response.json()\n",
        "\n",
        "        # Extract the forecast URL from the response\n",
        "        forecast_url = points_data.get('properties', {}).get('forecast')\n",
        "\n",
        "        if not forecast_url:\n",
        "            print(\"Error: Could not find forecast URL in the API response.\")\n",
        "            return None\n",
        "\n",
        "    except requests.exceptions.RequestException as e:\n",
        "        print(f\"Error connecting to NWS points API: {e}\")\n",
        "        return None\n",
        "    except ValueError: # Catches JSON decoding errors\n",
        "        print(\"Error: Could not decode JSON response from points API.\")\n",
        "        return None\n",
        "\n",
        "    # --- Step 2: Get the actual forecast from the forecast URL ---\n",
        "    try:\n",
        "        forecast_response = requests.get(forecast_url, headers=headers, timeout=10)\n",
        "        forecast_response.raise_for_status()\n",
        "        forecast_data = forecast_response.json()\n",
        "\n",
        "        # The detailed forecast is in the 'periods' list\n",
        "        return forecast_data.get('properties', {}).get('periods')\n",
        "\n",
        "    except requests.exceptions.RequestException as e:\n",
        "        print(f\"Error connecting to NWS forecast API: {e}\")\n",
        "        return None\n",
        "    except ValueError:\n",
        "        print(\"Error: Could not decode JSON response from forecast API.\")\n",
        "        return None"
      ],
      "metadata": {
        "id": "xU2BtdNFvULC"
      },
      "id": "xU2BtdNFvULC",
      "execution_count": null,
      "outputs": []
    },
    {
      "cell_type": "markdown",
      "source": [
        "Get Lat/Long Function"
      ],
      "metadata": {
        "id": "_Drki6bA0V5s"
      },
      "id": "_Drki6bA0V5s"
    },
    {
      "cell_type": "code",
      "source": [
        "def get_lat_lon_from_place(api_key: str, address: str):\n",
        "    \"\"\"\n",
        "    Converts a physical address or city name to latitude and longitude using\n",
        "    the Google Maps Geocoding API.\n",
        "\n",
        "    Args:\n",
        "        api_key: Your valid Google Maps Geocoding API key.\n",
        "        address: The city, street address, or place name to geocode.\n",
        "\n",
        "    Returns:\n",
        "        A tuple containing the latitude and longitude as floats (lat, lon).\n",
        "        Returns None if the address cannot be geocoded or if an API\n",
        "        error occurs.\n",
        "    \"\"\"\n",
        "    # API endpoint URL\n",
        "    base_url = \"https://maps.googleapis.com/maps/api/geocode/json\"\n",
        "\n",
        "    # Parameters for the API request\n",
        "    params: Dict[str, str] = {\n",
        "        'address': address,\n",
        "        'key': api_key,\n",
        "    }\n",
        "\n",
        "    try:\n",
        "        # Make the GET request to the Google Maps API\n",
        "        response = requests.get(base_url, params=params, timeout=10)\n",
        "        # Raise an HTTPError for bad responses (4xx or 5xx)\n",
        "        response.raise_for_status()\n",
        "        # Parse the JSON response\n",
        "        data: Dict[str, Any] = response.json()\n",
        "\n",
        "        # Check the status of the API response\n",
        "        if data.get('status') == 'OK' and data.get('results'):\n",
        "            # Extract the geometry and location data\n",
        "            location = data['results'][0]['geometry']['location']\n",
        "            latitude: float = location['lat']\n",
        "            longitude: float = location['lng']\n",
        "            return (latitude, longitude)\n",
        "        else:\n",
        "            # Print an error message if geocoding failed\n",
        "            error_message = data.get('error_message', 'No results found.')\n",
        "            print(f\"Geocoding Error: {data.get('status')} - {error_message}\")\n",
        "            return None\n",
        "\n",
        "    except requests.exceptions.RequestException as e:\n",
        "        # Handle connection errors, timeouts, etc.\n",
        "        print(f\"Error connecting to Google Maps API: {e}\")\n",
        "        return None\n",
        "    except (ValueError, KeyError, IndexError):\n",
        "        # Handle errors from malformed JSON or unexpected structure\n",
        "        print(\"Error: Could not parse response from Google Maps API.\")\n",
        "        return None"
      ],
      "metadata": {
        "id": "swz0htAo0TcW"
      },
      "id": "swz0htAo0TcW",
      "execution_count": null,
      "outputs": []
    },
    {
      "cell_type": "markdown",
      "source": [
        "Get weather for city"
      ],
      "metadata": {
        "id": "l2WVi8YjyOL9"
      },
      "id": "l2WVi8YjyOL9"
    },
    {
      "cell_type": "code",
      "source": [
        "def get_weather_city(city: str) -> dict:\n",
        "    \"\"\"\n",
        "    Retrieves the weather forecast for the city\n",
        "\n",
        "    This function prompts for the input city and\n",
        "    prints the report in a user friendly format\n",
        "\n",
        "    Args:\n",
        "        city: The city or place name to geocode.\n",
        "\n",
        "    Returns:\n",
        "        A list of weather parameters such as temperature, wind etc\n",
        "        as returned by NWS API\n",
        "    \"\"\"\n",
        "\n",
        "\n",
        "    # IMPORTANT: Replace \"YOUR_API_KEY\" with your actual Google Maps API key.\n",
        "    gmaps_api_key = \"REVOKED KEY\"  # @param {type:\"string\"}\n",
        "\n",
        "    if gmaps_api_key == \"\":\n",
        "        print(\"To run this , you must replace 'YOUR_API_KEY' in the\")\n",
        "        print(\"script with your actual Google Maps Geocoding API key.\")\n",
        "\n",
        "    else:\n",
        "        # Get city from user input\n",
        "        #city = input(\"Enter a city name to get the weather forecast: \")\n",
        "\n",
        "        # Get coordinates for the city\n",
        "        coordinates = get_lat_lon_from_place(gmaps_api_key, city)\n",
        "\n",
        "        if coordinates:\n",
        "            print(f\"\\nCoordinates for {city}: Latitude={coordinates[0]}, Longitude={coordinates[1]}\")\n",
        "\n",
        "            # Get weather forecast using the coordinates\n",
        "            forecast_periods = get_weather_forecast(coordinates[0], coordinates[1])\n",
        "\n",
        "            if forecast_periods:\n",
        "                first_period = forecast_periods[0]\n",
        "                weather_text=\"\\n--- Current Forecast ---\\n\" \\\n",
        "                \"Time: \",first_period.get('name'),\"\\n\" \\\n",
        "                \"Temperature: \" ,first_period.get('temperature'),\"°\",first_period.get('temperatureUnit'),\"\\n\" \\\n",
        "                \"Wind: \",first_period.get('windSpeed'),\" from the \",first_period.get('windDirection'),\"\\n\" \\\n",
        "                \"Forecast: \",first_period.get('detailedForecast'),\"\\n\"\n",
        "                return weather_text\n",
        "            else:\n",
        "                print(\"\\nFailed to retrieve weather forecast for the location.\")\n",
        "        else:\n",
        "            print(f\"\\nCould not find coordinates for '{city}'.\")"
      ],
      "metadata": {
        "id": "Wn1yWHCYyDZn"
      },
      "id": "Wn1yWHCYyDZn",
      "execution_count": null,
      "outputs": []
    },
    {
      "cell_type": "code",
      "source": [
        "# @title Test the agent locally\n",
        "from google.adk.agents import Agent\n",
        "from google.adk.agents import LlmAgent, BaseAgent\n",
        "from google.adk.tools import google_search\n",
        "\n",
        "# from google.adk.models.lite_llm import LiteLlm\n",
        "\n",
        "AGENT_MODEL = \"gemini-2.0-flash\" # Can be a string for Gemini or a LiteLlm object\n",
        "weather_agent = LlmAgent(\n",
        "    name=\"weather_agent_v1\",\n",
        "    model=AGENT_MODEL,\n",
        "    description=\"Provides weather information for specific cities.\",\n",
        "    instruction=\"You are a helpful weather assistant. \"\n",
        "                \"When the user asks for the weather in a specific city, \"\n",
        "                \"use the 'get_weather_city' tool to find the information. \"\n",
        "                ,\n",
        "    tools=[get_weather_city], # Pass the function directly\n",
        ")\n",
        "google_search_agent = LlmAgent(\n",
        "\n",
        "    name=\"search_agent_v1\",\n",
        "    model=AGENT_MODEL,\n",
        "    description=(\n",
        "        \"You can search Google and return answers from the Internet.\"\n",
        "    ),\n",
        "    instruction=(\n",
        "        \"\"\"You are a helpful Chatbot.\n",
        "        If you don't know something, then Search Google for the answer.\"\"\"\n",
        "    ),\n",
        "    tools=[google_search]\n",
        ")\n",
        "main_agent = LlmAgent(\n",
        " name=\"main_agent\",\n",
        " model=AGENT_MODEL,\n",
        " description=\"Provides Answers to Users Questions.\",\n",
        " instruction=\"You are a helpful weather assistant. \"\n",
        "                \"When the user asks for the weather in a specific city, \"\n",
        "                \"use the 'get_weather_city' tool to find the information. \"\n",
        "                \"Otherwise use google_search_agent to answer questions \",\n",
        " #tools=[agent_tool.AgentTool(agent=google_search_agent)],\n",
        " sub_agents=[weather_agent],\n",
        ")\n",
        "\n",
        "print(f\"Agent '{weather_agent.name}' created using model '{AGENT_MODEL}'.\")"
      ],
      "metadata": {
        "id": "lcQlHr91c1yU",
        "colab": {
          "base_uri": "https://localhost:8080/"
        },
        "outputId": "29ab7776-344f-4c44-d2af-4f4d8f55d39f"
      },
      "id": "lcQlHr91c1yU",
      "execution_count": null,
      "outputs": [
        {
          "output_type": "stream",
          "name": "stdout",
          "text": [
            "Agent 'weather_agent_v1' created using model 'gemini-2.0-flash'.\n"
          ]
        }
      ]
    },
    {
      "cell_type": "code",
      "source": [
        "# @title Create an App that uses the agent\n",
        "\n",
        "from vertexai.preview import reasoning_engines\n",
        "app = reasoning_engines.AdkApp(\n",
        "    agent=main_agent,\n",
        "    enable_tracing=False,\n",
        ")"
      ],
      "metadata": {
        "id": "GjRxW5A8ej7F"
      },
      "id": "GjRxW5A8ej7F",
      "execution_count": null,
      "outputs": []
    },
    {
      "cell_type": "code",
      "source": [
        "\n",
        "# @title Send a message to the locally running agent\n",
        "# @title Create a user session\n",
        "user_id = \"test-user-id\"\n",
        "session = app.create_session(user_id=user_id)\n",
        "\n",
        "print(session.id)\n",
        "from IPython.display import Markdown, display\n",
        "\n",
        "#test weather\n",
        "for event in app.stream_query(\n",
        "    user_id=user_id,\n",
        "    session_id=session.id,\n",
        "    message=\"weather in Austin\",\n",
        "):\n",
        "    lastevent = event\n",
        "\n",
        "display(Markdown(lastevent[\"content\"][\"parts\"][0][\"text\"]))\n",
        "\n",
        "#test google search\n",
        "for event in app.stream_query(\n",
        "    user_id=user_id,\n",
        "    session_id=session.id,\n",
        "    message=\"when was Google founded?\",\n",
        "):\n",
        "    lastevent = event\n",
        "\n",
        "display(Markdown(lastevent[\"content\"][\"parts\"][0][\"text\"]))\n",
        "\n"
      ],
      "metadata": {
        "id": "nQaSqTn3fVEM",
        "colab": {
          "base_uri": "https://localhost:8080/",
          "height": 200
        },
        "outputId": "d22f8181-0711-4ee1-bddb-f329cd477a02"
      },
      "id": "nQaSqTn3fVEM",
      "execution_count": null,
      "outputs": [
        {
          "output_type": "stream",
          "name": "stdout",
          "text": [
            "08f3a712-7cce-4fae-b0c7-f001b01b1daa\n"
          ]
        },
        {
          "output_type": "stream",
          "name": "stderr",
          "text": [
            "WARNING:google_genai.types:Warning: there are non-text parts in the response: ['function_call'], returning concatenated text result from text parts. Check the full candidates.content.parts accessor to get the full model response.\n",
            "WARNING:google_genai.types:Warning: there are non-text parts in the response: ['function_call'], returning concatenated text result from text parts. Check the full candidates.content.parts accessor to get the full model response.\n"
          ]
        },
        {
          "output_type": "stream",
          "name": "stdout",
          "text": [
            "\n",
            "Coordinates for Austin: Latitude=30.267153, Longitude=-97.7430608\n"
          ]
        },
        {
          "output_type": "display_data",
          "data": {
            "text/plain": [
              "<IPython.core.display.Markdown object>"
            ],
            "text/markdown": "The weather in Austin tonight will be partly cloudy, with a low around 75°F. The wind will be around 0 mph from the south.\n"
          },
          "metadata": {}
        },
        {
          "output_type": "stream",
          "name": "stderr",
          "text": [
            "WARNING:google_genai.types:Warning: there are non-text parts in the response: ['function_call'], returning concatenated text result from text parts. Check the full candidates.content.parts accessor to get the full model response.\n"
          ]
        },
        {
          "output_type": "display_data",
          "data": {
            "text/plain": [
              "<IPython.core.display.Markdown object>"
            ],
            "text/markdown": "Google was founded on September 4, 1998.\n"
          },
          "metadata": {}
        }
      ]
    }
  ],
  "metadata": {
    "kernelspec": {
      "display_name": "Python 3",
      "language": "python",
      "name": "python3"
    },
    "language_info": {
      "codemirror_mode": {
        "name": "ipython",
        "version": 3
      },
      "file_extension": ".py",
      "mimetype": "text/x-python",
      "name": "python",
      "nbconvert_exporter": "python",
      "pygments_lexer": "ipython3",
      "version": "3.10.10"
    },
    "colab": {
      "provenance": [],
      "name": "3_Multi_Agent.ipynb"
    }
  },
  "nbformat": 4,
  "nbformat_minor": 5
}
