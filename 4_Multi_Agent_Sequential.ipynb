{
  "cells": [
    {
      "cell_type": "markdown",
      "source": [
        "# Simple ADK Agents"
      ],
      "metadata": {
        "id": "6uT9tz6WcJUf"
      },
      "id": "6uT9tz6WcJUf"
    },
    {
      "cell_type": "code",
      "id": "F6eB5VTuCyl62J4cOffRRjx6",
      "metadata": {
        "tags": [],
        "id": "F6eB5VTuCyl62J4cOffRRjx6",
        "colab": {
          "base_uri": "https://localhost:8080/"
        },
        "outputId": "7244aa07-6460-4859-aa7b-e1f466af98e2"
      },
      "source": [
        "! pip install google-cloud-aiplatform[adk] --quiet --upgrade"
      ],
      "execution_count": null,
      "outputs": [
        {
          "output_type": "stream",
          "name": "stdout",
          "text": [
            "\u001b[2K     \u001b[90m━━━━━━━━━━━━━━━━━━━━━━━━━━━━━━━━━━━━━━━━\u001b[0m \u001b[32m40.1/40.1 kB\u001b[0m \u001b[31m4.4 MB/s\u001b[0m eta \u001b[36m0:00:00\u001b[0m\n",
            "\u001b[2K   \u001b[90m━━━━━━━━━━━━━━━━━━━━━━━━━━━━━━━━━━━━━━━━\u001b[0m \u001b[32m1.3/1.3 MB\u001b[0m \u001b[31m26.5 MB/s\u001b[0m eta \u001b[36m0:00:00\u001b[0m\n",
            "\u001b[2K   \u001b[90m━━━━━━━━━━━━━━━━━━━━━━━━━━━━━━━━━━━━━━━━\u001b[0m \u001b[32m7.9/7.9 MB\u001b[0m \u001b[31m84.6 MB/s\u001b[0m eta \u001b[36m0:00:00\u001b[0m\n",
            "\u001b[2K   \u001b[90m━━━━━━━━━━━━━━━━━━━━━━━━━━━━━━━━━━━━━━━━\u001b[0m \u001b[32m240.0/240.0 kB\u001b[0m \u001b[31m23.2 MB/s\u001b[0m eta \u001b[36m0:00:00\u001b[0m\n",
            "\u001b[2K   \u001b[90m━━━━━━━━━━━━━━━━━━━━━━━━━━━━━━━━━━━━━━━━\u001b[0m \u001b[32m218.1/218.1 kB\u001b[0m \u001b[31m20.7 MB/s\u001b[0m eta \u001b[36m0:00:00\u001b[0m\n",
            "\u001b[2K   \u001b[90m━━━━━━━━━━━━━━━━━━━━━━━━━━━━━━━━━━━━━━━━\u001b[0m \u001b[32m335.7/335.7 kB\u001b[0m \u001b[31m29.9 MB/s\u001b[0m eta \u001b[36m0:00:00\u001b[0m\n",
            "\u001b[2K   \u001b[90m━━━━━━━━━━━━━━━━━━━━━━━━━━━━━━━━━━━━━━━━\u001b[0m \u001b[32m150.9/150.9 kB\u001b[0m \u001b[31m17.0 MB/s\u001b[0m eta \u001b[36m0:00:00\u001b[0m\n",
            "\u001b[2K   \u001b[90m━━━━━━━━━━━━━━━━━━━━━━━━━━━━━━━━━━━━━━━━\u001b[0m \u001b[32m65.8/65.8 kB\u001b[0m \u001b[31m8.1 MB/s\u001b[0m eta \u001b[36m0:00:00\u001b[0m\n",
            "\u001b[2K   \u001b[90m━━━━━━━━━━━━━━━━━━━━━━━━━━━━━━━━━━━━━━━━\u001b[0m \u001b[32m118.5/118.5 kB\u001b[0m \u001b[31m15.1 MB/s\u001b[0m eta \u001b[36m0:00:00\u001b[0m\n",
            "\u001b[2K   \u001b[90m━━━━━━━━━━━━━━━━━━━━━━━━━━━━━━━━━━━━━━━━\u001b[0m \u001b[32m196.2/196.2 kB\u001b[0m \u001b[31m18.9 MB/s\u001b[0m eta \u001b[36m0:00:00\u001b[0m\n",
            "\u001b[2K   \u001b[90m━━━━━━━━━━━━━━━━━━━━━━━━━━━━━━━━━━━━━━━━\u001b[0m \u001b[32m64.8/64.8 kB\u001b[0m \u001b[31m6.9 MB/s\u001b[0m eta \u001b[36m0:00:00\u001b[0m\n",
            "\u001b[2K   \u001b[90m━━━━━━━━━━━━━━━━━━━━━━━━━━━━━━━━━━━━━━━━\u001b[0m \u001b[32m229.5/229.5 kB\u001b[0m \u001b[31m21.4 MB/s\u001b[0m eta \u001b[36m0:00:00\u001b[0m\n",
            "\u001b[2K   \u001b[90m━━━━━━━━━━━━━━━━━━━━━━━━━━━━━━━━━━━━━━━━\u001b[0m \u001b[32m103.8/103.8 kB\u001b[0m \u001b[31m11.9 MB/s\u001b[0m eta \u001b[36m0:00:00\u001b[0m\n",
            "\u001b[2K   \u001b[90m━━━━━━━━━━━━━━━━━━━━━━━━━━━━━━━━━━━━━━━━\u001b[0m \u001b[32m45.2/45.2 kB\u001b[0m \u001b[31m5.5 MB/s\u001b[0m eta \u001b[36m0:00:00\u001b[0m\n",
            "\u001b[?25h\u001b[31mERROR: pip's dependency resolver does not currently take into account all the packages that are installed. This behaviour is the source of the following dependency conflicts.\n",
            "google-colab 1.0.0 requires requests==2.32.3, but you have requests 2.32.4 which is incompatible.\u001b[0m\u001b[31m\n",
            "\u001b[0m"
          ]
        }
      ]
    },
    {
      "cell_type": "code",
      "source": [
        "import warnings\n",
        "warnings.filterwarnings('ignore')"
      ],
      "metadata": {
        "id": "N-TqcqWqut-c"
      },
      "id": "N-TqcqWqut-c",
      "execution_count": null,
      "outputs": []
    },
    {
      "cell_type": "code",
      "source": [
        "# @title Restart kernel after installs so that your environment can access the new packages\n",
        "import IPython\n",
        "\n",
        "app = IPython.Application.instance()\n",
        "app.kernel.do_shutdown(True)"
      ],
      "metadata": {
        "id": "sO1EkkYlP9Bn",
        "colab": {
          "base_uri": "https://localhost:8080/"
        },
        "outputId": "123cfb95-4817-4081-e16c-f1b807558857"
      },
      "execution_count": null,
      "outputs": [
        {
          "output_type": "execute_result",
          "data": {
            "text/plain": [
              "{'status': 'ok', 'restart': True}"
            ]
          },
          "metadata": {},
          "execution_count": 14
        }
      ],
      "id": "sO1EkkYlP9Bn"
    },
    {
      "cell_type": "code",
      "source": [
        "import vertexai\n",
        "\n",
        "PROJECT_ID = ! gcloud config get-value project\n",
        "PROJECT_ID = PROJECT_ID[0]\n",
        "LOCATION = \"us-central1\" # @param {type:\"string\"}\n",
        "STAGING_BUCKET = \"gs://agent-engine-staging-bucket-anita\" # @param {type:\"string\"}\n",
        "\n",
        "# define project information manually if the above code didn't work\n",
        "if PROJECT_ID == \"(unset)\":\n",
        "  PROJECT_ID = \"qwiklabs-gcp-02-8501559ee091\" # @param {type:\"string\"}\n",
        "\n",
        "print(PROJECT_ID)\n",
        "\n",
        "vertexai.init(\n",
        "    project=PROJECT_ID,\n",
        "    location=LOCATION,\n",
        "    staging_bucket=STAGING_BUCKET,\n",
        ")"
      ],
      "metadata": {
        "id": "dBAF_tCwQGrY",
        "colab": {
          "base_uri": "https://localhost:8080/"
        },
        "outputId": "8aa880d1-ee11-443e-eee2-17af47ba05e3"
      },
      "execution_count": 2,
      "outputs": [
        {
          "output_type": "stream",
          "name": "stdout",
          "text": [
            "qwiklabs-gcp-02-8501559ee091\n"
          ]
        }
      ],
      "id": "dBAF_tCwQGrY"
    },
    {
      "cell_type": "markdown",
      "source": [
        "## Sequential Agents"
      ],
      "metadata": {
        "id": "zgcp_HjFef7p"
      },
      "id": "zgcp_HjFef7p"
    },
    {
      "cell_type": "code",
      "source": [
        "def log_model_response(callback_context, llm_response):\n",
        "\n",
        "  if llm_response.content and llm_response.content.parts:\n",
        "    txt = llm_response.content.parts[0].text\n",
        "  if txt:\n",
        "    print(txt)\n",
        "  return None"
      ],
      "metadata": {
        "id": "KnEEundI2Xse"
      },
      "id": "KnEEundI2Xse",
      "execution_count": 31,
      "outputs": []
    },
    {
      "cell_type": "code",
      "source": [
        "# @title Test the agent locally\n",
        "from google.adk.agents import Agent\n",
        "from google.adk.tools import google_search\n",
        "from google.adk.agents import SequentialAgent, LlmAgent\n",
        "\n",
        "# from google.adk.models.lite_llm import LiteLlm\n",
        "\n",
        "AGENT_MODEL = \"gemini-2.0-flash\" # Can be a string for Gemini or a LiteLlm object\n",
        "greeter_agent = LlmAgent(\n",
        "    name=\"greeter_agent_v1\",\n",
        "    model=AGENT_MODEL,\n",
        "    description=\"Greets user.\",\n",
        "    instruction=\"You are a greetings assistant. \"\n",
        "                \"You greet the user in a friendly manner\"\n",
        "                \" and ask them what they want to do.\",\n",
        "\n",
        "    after_model_callback=log_model_response,\n",
        ")\n",
        "google_search_agent = LlmAgent(\n",
        "\n",
        "    name=\"search_agent_v1\",\n",
        "    model=AGENT_MODEL,\n",
        "    description=(\n",
        "        \"You can search Google and return answers from the Internet.\"\n",
        "    ),\n",
        "    instruction=(\n",
        "        \"\"\"You are a helpful Chatbot.\n",
        "        If you don't know something, then Search Google for the answer.\"\"\"\n",
        "    ),\n",
        "    tools=[google_search],\n",
        "    after_model_callback=log_model_response,\n",
        ")\n",
        "critique_agent = LlmAgent(\n",
        "\n",
        "    name=\"critique_agent_v1\",\n",
        "    model=AGENT_MODEL,\n",
        "    description=(\n",
        "        \"You provide constructive criticism.\"\n",
        "    ),\n",
        "    instruction=(\n",
        "        \"\"\"You are a helpful critical assistant.\n",
        "        You provide constructive criticism to the response.\"\"\"\n",
        "    ),\n",
        "    after_model_callback=log_model_response,\n",
        ")\n",
        "\n",
        "refine_agent = LlmAgent(\n",
        "\n",
        "    name=\"refine_agent_v1\",\n",
        "    model=AGENT_MODEL,\n",
        "    description=(\n",
        "        \"You provide constructive criticism.\"\n",
        "    ),\n",
        "    instruction=(\n",
        "        \"\"\"You are a helpful  assistant.\n",
        "        You provide a refined response based on the critical feedback.\"\"\"\n",
        "    ),\n",
        "    after_model_callback=log_model_response,\n",
        ")\n",
        "main_agent = SequentialAgent(\n",
        " name=\"main_agent\",\n",
        " description=\"Provides Answers to Users Questions.\",\n",
        " #tools=[agent_tool.AgentTool(agent=google_search_agent)],\n",
        " sub_agents=[greeter_agent,google_search_agent,critique_agent,refine_agent],\n",
        "\n",
        ")\n",
        "\n"
      ],
      "metadata": {
        "id": "lcQlHr91c1yU"
      },
      "id": "lcQlHr91c1yU",
      "execution_count": 41,
      "outputs": []
    },
    {
      "cell_type": "code",
      "source": [
        "# @title Create an App that uses the agent\n",
        "\n",
        "from vertexai.preview import reasoning_engines\n",
        "app = reasoning_engines.AdkApp(\n",
        "    agent=main_agent,\n",
        "    enable_tracing=False,\n",
        ")"
      ],
      "metadata": {
        "id": "GjRxW5A8ej7F"
      },
      "id": "GjRxW5A8ej7F",
      "execution_count": 42,
      "outputs": []
    },
    {
      "cell_type": "code",
      "source": [
        "\n",
        "# @title Send a message to the locally running agent\n",
        "# @title Create a user session\n",
        "user_id = \"test-user-id\"\n",
        "session = app.create_session(user_id=user_id)\n",
        "\n",
        "print(session.id)\n",
        "from IPython.display import Markdown, display\n",
        "\n",
        "\n",
        "\n",
        "#test google search\n",
        "for event in app.stream_query(\n",
        "    user_id=user_id,\n",
        "    session_id=session.id,\n",
        "    message=\"Research about Google's Deepmind and describe some of their contributions\",\n",
        "):\n",
        "    lastevent = event\n",
        "display(Markdown(lastevent[\"content\"][\"parts\"][0][\"text\"]))\n",
        "\n"
      ],
      "metadata": {
        "id": "nQaSqTn3fVEM",
        "colab": {
          "base_uri": "https://localhost:8080/",
          "height": 1000
        },
        "outputId": "52295799-5dd4-4fea-94f8-c7ada3bb84c2"
      },
      "id": "nQaSqTn3fVEM",
      "execution_count": 43,
      "outputs": [
        {
          "output_type": "stream",
          "name": "stdout",
          "text": [
            "57569ef5-fcc0-4f4f-a7fa-83a51ecd4a3d\n",
            "Logged Model Response from callback: Hey there! 👋 How can I help you today? Are you looking for information, want to brainstorm something, or perhaps need assistance with a task? Let me know!\n",
            "\n",
            "Logged Model Response from callback: Google DeepMind, a British artificial intelligence research laboratory and subsidiary of Alphabet Inc., was founded in 2010 and acquired by Google in 2014. In April 2023, it merged with Google AI's Google Brain division to become Google DeepMind. The company is dedicated to advancing the field of AI through rigorous scientific investigation. Their mission is to create an intuitive future where digital technologies benefit humanity.\n",
            "\n",
            "Here are some of DeepMind's notable contributions:\n",
            "\n",
            "*   **AlphaGo:** DeepMind is known for developing AlphaGo, an AI program that defeated a world champion Go player in 2016, a feat previously thought to be decades away. This achievement demonstrated AI's capability to handle tasks requiring deep strategic thinking.\n",
            "*   **AlphaFold:** In 2020, DeepMind launched AlphaFold, an AI system that accurately predicts 3D models of protein structures. This was a breakthrough in protein structure prediction and has accelerated advancements in drug discovery and genetic engineering.\n",
            "*   **WaveNet:** DeepMind created WaveNet, a realistic text-to-speech model trained on speech samples. It incorporates natural-sounding elements and has been used in products like the Google Assistant.\n",
            "*   **AI for Energy Efficiency:** DeepMind has developed AI systems that manage data center cooling more efficiently, resulting in significant energy savings. For example, their AI system helped save around 30% of the energy needed for cooling Google's data centers.\n",
            "*   **Deep Learning and Convolutional Neural Networks (CNNs):** DeepMind pioneered the application of CNNs for object recognition in images, which has significantly advanced computer vision.\n",
            "*   **Natural Language Processing:** DeepMind's work in natural language processing has led to AI systems that can better understand and generate human-like responses. These advancements are helping to create more accurate translation tools and sophisticated conversational assistants.\n",
            "*   **Gemini:** DeepMind developed Gemini, a family of multimodal AI models that can understand and generate text, images, code, and more.\n",
            "*   **Optimizing App Recommendations:** DeepMind has helped personalize app recommendations in Google Play by using machine learning to find the apps that users are more likely to use and enjoy.\n",
            "\n",
            "DeepMind is also focused on AI ethics and safety, contributing to the development of guidelines for responsible AI research and exploring ways to mitigate potential risks associated with AI advancement.\n",
            "\n",
            "Logged Model Response from callback: This is a good overview of DeepMind and its contributions. Here are a few suggestions for improvement:\n",
            "\n",
            "*   **Expand on the impact:** While you mention the achievements, elaborating on the *impact* of these contributions would strengthen the response. For example, with AlphaFold, mention specific examples of drug discovery or genetic engineering advancements that have been accelerated because of it. For the data center cooling, quantify the environmental impact beyond just energy savings (e.g., reduced carbon emissions).\n",
            "*   **Provide more context for CNNs:** The statement about CNNs is a bit vague. While DeepMind has contributed, CNNs were not solely pioneered by them. Giving credit to earlier work (e.g., Yann LeCun's work on LeNet) and then specifying DeepMind's *specific* advancements in applying CNNs (e.g., in image recognition challenges like ImageNet) would provide a more accurate and complete picture.\n",
            "*   **Mention specific research areas within AI ethics:** Saying DeepMind is focused on AI ethics is good, but mentioning *what* aspects of AI ethics they are working on would be better. Are they focusing on bias mitigation, explainability, adversarial robustness, or something else?\n",
            "*   **Consider the limitations and criticisms:** A more comprehensive answer might briefly acknowledge any limitations or criticisms leveled against DeepMind or its technologies. For example, concerns about the energy consumption of training large AI models, or the potential for bias in AI systems. This would add nuance and demonstrate a balanced perspective.\n",
            "*   **Update with recent developments:** AI is a rapidly evolving field. Double-checking for any very recent breakthroughs or changes in DeepMind's focus could further improve the answer's currency.\n",
            "\n",
            "Overall, the response is informative and well-organized. Addressing the points above would make it even stronger.\n",
            "\n",
            "Logged Model Response from callback: Google DeepMind, a British artificial intelligence research laboratory and subsidiary of Alphabet Inc., was founded in 2010 and acquired by Google in 2014. In April 2023, it merged with Google AI's Google Brain division to become Google DeepMind. The company is dedicated to advancing the field of AI through rigorous scientific investigation, with a mission to create an intuitive future where digital technologies benefit humanity.\n",
            "\n",
            "Here are some of DeepMind's notable contributions:\n",
            "\n",
            "*   **AlphaGo:** DeepMind is renowned for developing AlphaGo, an AI program that defeated a world champion Go player in 2016, a feat previously considered decades away. This achievement demonstrated AI's capability to handle tasks requiring deep strategic thinking.\n",
            "*   **AlphaFold:** In 2020, DeepMind launched AlphaFold, an AI system that accurately predicts 3D models of protein structures. This breakthrough in protein structure prediction has significantly accelerated advancements in drug discovery, leading to progress in understanding diseases and identifying potential drug targets. For example, AlphaFold has aided research into antibiotic resistance and the development of new treatments for diseases like malaria. It has also greatly accelerated structural biology research, saving researchers time and resources.\n",
            "*   **WaveNet:** DeepMind created WaveNet, a realistic text-to-speech model trained on speech samples. It incorporates natural-sounding elements and has been used in products like the Google Assistant, enhancing the user experience by providing more natural and human-like voice interactions.\n",
            "*   **AI for Energy Efficiency:** DeepMind has developed AI systems that manage data center cooling more efficiently, resulting in significant energy savings. Their AI system has helped save around 30% of the energy needed for cooling Google's data centers, which translates to a notable reduction in carbon emissions and contributes to Google's sustainability efforts.\n",
            "*   **Deep Learning and Convolutional Neural Networks (CNNs):** While not the sole pioneers, DeepMind significantly advanced the application of CNNs, building upon earlier work such as Yann LeCun's LeNet. DeepMind's contributions, particularly their success in image recognition challenges like ImageNet, demonstrated the power of CNNs for complex computer vision tasks. Their work has propelled advancements in areas such as image classification, object detection, and image segmentation.\n",
            "*   **Natural Language Processing:** DeepMind's work in natural language processing has led to AI systems that can better understand and generate human-like responses. These advancements are helping to create more accurate translation tools and sophisticated conversational assistants, improving communication and information access across languages.\n",
            "*   **Gemini:** DeepMind developed Gemini, a family of multimodal AI models that can understand and generate text, images, code, and more.\n",
            "*   **Optimizing App Recommendations:** DeepMind has helped personalize app recommendations in Google Play by using machine learning to find the apps that users are more likely to use and enjoy, enhancing user engagement and satisfaction.\n",
            "\n",
            "DeepMind is also focused on AI ethics and safety, particularly on areas such as bias mitigation and ensuring the explainability of AI models. They are actively researching methods to reduce bias in algorithms and developing techniques to make AI decision-making processes more transparent and understandable.\n",
            "\n",
            "It is important to acknowledge some limitations and criticisms. Training large AI models requires significant computational resources and energy, raising concerns about environmental impact. There are also ongoing discussions about the potential for bias in AI systems and the need for careful monitoring and mitigation strategies. Despite these challenges, DeepMind continues to push the boundaries of AI research while also addressing ethical considerations.\n",
            "\n"
          ]
        },
        {
          "output_type": "display_data",
          "data": {
            "text/plain": [
              "<IPython.core.display.Markdown object>"
            ],
            "text/markdown": "Google DeepMind, a British artificial intelligence research laboratory and subsidiary of Alphabet Inc., was founded in 2010 and acquired by Google in 2014. In April 2023, it merged with Google AI's Google Brain division to become Google DeepMind. The company is dedicated to advancing the field of AI through rigorous scientific investigation, with a mission to create an intuitive future where digital technologies benefit humanity.\n\nHere are some of DeepMind's notable contributions:\n\n*   **AlphaGo:** DeepMind is renowned for developing AlphaGo, an AI program that defeated a world champion Go player in 2016, a feat previously considered decades away. This achievement demonstrated AI's capability to handle tasks requiring deep strategic thinking.\n*   **AlphaFold:** In 2020, DeepMind launched AlphaFold, an AI system that accurately predicts 3D models of protein structures. This breakthrough in protein structure prediction has significantly accelerated advancements in drug discovery, leading to progress in understanding diseases and identifying potential drug targets. For example, AlphaFold has aided research into antibiotic resistance and the development of new treatments for diseases like malaria. It has also greatly accelerated structural biology research, saving researchers time and resources.\n*   **WaveNet:** DeepMind created WaveNet, a realistic text-to-speech model trained on speech samples. It incorporates natural-sounding elements and has been used in products like the Google Assistant, enhancing the user experience by providing more natural and human-like voice interactions.\n*   **AI for Energy Efficiency:** DeepMind has developed AI systems that manage data center cooling more efficiently, resulting in significant energy savings. Their AI system has helped save around 30% of the energy needed for cooling Google's data centers, which translates to a notable reduction in carbon emissions and contributes to Google's sustainability efforts.\n*   **Deep Learning and Convolutional Neural Networks (CNNs):** While not the sole pioneers, DeepMind significantly advanced the application of CNNs, building upon earlier work such as Yann LeCun's LeNet. DeepMind's contributions, particularly their success in image recognition challenges like ImageNet, demonstrated the power of CNNs for complex computer vision tasks. Their work has propelled advancements in areas such as image classification, object detection, and image segmentation.\n*   **Natural Language Processing:** DeepMind's work in natural language processing has led to AI systems that can better understand and generate human-like responses. These advancements are helping to create more accurate translation tools and sophisticated conversational assistants, improving communication and information access across languages.\n*   **Gemini:** DeepMind developed Gemini, a family of multimodal AI models that can understand and generate text, images, code, and more.\n*   **Optimizing App Recommendations:** DeepMind has helped personalize app recommendations in Google Play by using machine learning to find the apps that users are more likely to use and enjoy, enhancing user engagement and satisfaction.\n\nDeepMind is also focused on AI ethics and safety, particularly on areas such as bias mitigation and ensuring the explainability of AI models. They are actively researching methods to reduce bias in algorithms and developing techniques to make AI decision-making processes more transparent and understandable.\n\nIt is important to acknowledge some limitations and criticisms. Training large AI models requires significant computational resources and energy, raising concerns about environmental impact. There are also ongoing discussions about the potential for bias in AI systems and the need for careful monitoring and mitigation strategies. Despite these challenges, DeepMind continues to push the boundaries of AI research while also addressing ethical considerations.\n"
          },
          "metadata": {}
        }
      ]
    }
  ],
  "metadata": {
    "kernelspec": {
      "display_name": "Python 3",
      "language": "python",
      "name": "python3"
    },
    "language_info": {
      "codemirror_mode": {
        "name": "ipython",
        "version": 3
      },
      "file_extension": ".py",
      "mimetype": "text/x-python",
      "name": "python",
      "nbconvert_exporter": "python",
      "pygments_lexer": "ipython3",
      "version": "3.10.10"
    },
    "colab": {
      "provenance": [],
      "name": "3_Multi_Agent.ipynb"
    }
  },
  "nbformat": 4,
  "nbformat_minor": 5
}